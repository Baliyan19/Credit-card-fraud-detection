{
 "cells": [
  {
   "cell_type": "markdown",
   "metadata": {
    "id": "pQHT_Q2pghbZ"
   },
   "source": [
    "**We will import the libraries we required:**"
   ]
  },
  {
   "cell_type": "code",
   "execution_count": 2,
   "metadata": {
    "executionInfo": {
     "elapsed": 1795,
     "status": "ok",
     "timestamp": 1706446224210,
     "user": {
      "displayName": "PRANIT AMBULKAR",
      "userId": "01972083617876889196"
     },
     "user_tz": -330
    },
    "id": "u_CLFOzYgujF"
   },
   "outputs": [],
   "source": [
    "import pandas as pd\n",
    "import numpy as np\n",
    "import seaborn as sns\n",
    "import matplotlib.pyplot as plt\n",
    "\n",
    "%matplotlib inline\n",
    "plt.style.use('ggplot') # this will apply the 'ggplots' style to the matplotlib plots in the notebook."
   ]
  },
  {
   "cell_type": "markdown",
   "metadata": {
    "id": "iwl0taRjipZt"
   },
   "source": [
    "**We will Import the creditcard.csv data for the preprocessing of the data**"
   ]
  },
  {
   "cell_type": "code",
   "execution_count": 3,
   "metadata": {
    "executionInfo": {
     "elapsed": 4890,
     "status": "ok",
     "timestamp": 1706446229092,
     "user": {
      "displayName": "PRANIT AMBULKAR",
      "userId": "01972083617876889196"
     },
     "user_tz": -330
    },
    "id": "Kbe59UPvi0U8"
   },
   "outputs": [],
   "source": [
    "df = pd.read_csv(\"creditcard.csv\")"
   ]
  },
  {
   "cell_type": "code",
   "execution_count": 4,
   "metadata": {
    "colab": {
     "base_uri": "https://localhost:8080/",
     "height": 443
    },
    "executionInfo": {
     "elapsed": 669,
     "status": "ok",
     "timestamp": 1706448366036,
     "user": {
      "displayName": "PRANIT AMBULKAR",
      "userId": "01972083617876889196"
     },
     "user_tz": -330
    },
    "id": "LTQ9hVhqhwNl",
    "outputId": "7df3a4e2-b943-41fe-e2d1-6b3be5799e2b"
   },
   "outputs": [
    {
     "data": {
      "text/html": [
       "<div>\n",
       "<style scoped>\n",
       "    .dataframe tbody tr th:only-of-type {\n",
       "        vertical-align: middle;\n",
       "    }\n",
       "\n",
       "    .dataframe tbody tr th {\n",
       "        vertical-align: top;\n",
       "    }\n",
       "\n",
       "    .dataframe thead th {\n",
       "        text-align: right;\n",
       "    }\n",
       "</style>\n",
       "<table border=\"1\" class=\"dataframe\">\n",
       "  <thead>\n",
       "    <tr style=\"text-align: right;\">\n",
       "      <th></th>\n",
       "      <th>Time</th>\n",
       "      <th>V1</th>\n",
       "      <th>V2</th>\n",
       "      <th>V3</th>\n",
       "      <th>V4</th>\n",
       "      <th>V5</th>\n",
       "      <th>V6</th>\n",
       "      <th>V7</th>\n",
       "      <th>V8</th>\n",
       "      <th>V9</th>\n",
       "      <th>...</th>\n",
       "      <th>V21</th>\n",
       "      <th>V22</th>\n",
       "      <th>V23</th>\n",
       "      <th>V24</th>\n",
       "      <th>V25</th>\n",
       "      <th>V26</th>\n",
       "      <th>V27</th>\n",
       "      <th>V28</th>\n",
       "      <th>Amount</th>\n",
       "      <th>Class</th>\n",
       "    </tr>\n",
       "  </thead>\n",
       "  <tbody>\n",
       "    <tr>\n",
       "      <th>0</th>\n",
       "      <td>0.0</td>\n",
       "      <td>-1.359807</td>\n",
       "      <td>-0.072781</td>\n",
       "      <td>2.536347</td>\n",
       "      <td>1.378155</td>\n",
       "      <td>-0.338321</td>\n",
       "      <td>0.462388</td>\n",
       "      <td>0.239599</td>\n",
       "      <td>0.098698</td>\n",
       "      <td>0.363787</td>\n",
       "      <td>...</td>\n",
       "      <td>-0.018307</td>\n",
       "      <td>0.277838</td>\n",
       "      <td>-0.110474</td>\n",
       "      <td>0.066928</td>\n",
       "      <td>0.128539</td>\n",
       "      <td>-0.189115</td>\n",
       "      <td>0.133558</td>\n",
       "      <td>-0.021053</td>\n",
       "      <td>149.62</td>\n",
       "      <td>0</td>\n",
       "    </tr>\n",
       "    <tr>\n",
       "      <th>1</th>\n",
       "      <td>0.0</td>\n",
       "      <td>1.191857</td>\n",
       "      <td>0.266151</td>\n",
       "      <td>0.166480</td>\n",
       "      <td>0.448154</td>\n",
       "      <td>0.060018</td>\n",
       "      <td>-0.082361</td>\n",
       "      <td>-0.078803</td>\n",
       "      <td>0.085102</td>\n",
       "      <td>-0.255425</td>\n",
       "      <td>...</td>\n",
       "      <td>-0.225775</td>\n",
       "      <td>-0.638672</td>\n",
       "      <td>0.101288</td>\n",
       "      <td>-0.339846</td>\n",
       "      <td>0.167170</td>\n",
       "      <td>0.125895</td>\n",
       "      <td>-0.008983</td>\n",
       "      <td>0.014724</td>\n",
       "      <td>2.69</td>\n",
       "      <td>0</td>\n",
       "    </tr>\n",
       "    <tr>\n",
       "      <th>2</th>\n",
       "      <td>1.0</td>\n",
       "      <td>-1.358354</td>\n",
       "      <td>-1.340163</td>\n",
       "      <td>1.773209</td>\n",
       "      <td>0.379780</td>\n",
       "      <td>-0.503198</td>\n",
       "      <td>1.800499</td>\n",
       "      <td>0.791461</td>\n",
       "      <td>0.247676</td>\n",
       "      <td>-1.514654</td>\n",
       "      <td>...</td>\n",
       "      <td>0.247998</td>\n",
       "      <td>0.771679</td>\n",
       "      <td>0.909412</td>\n",
       "      <td>-0.689281</td>\n",
       "      <td>-0.327642</td>\n",
       "      <td>-0.139097</td>\n",
       "      <td>-0.055353</td>\n",
       "      <td>-0.059752</td>\n",
       "      <td>378.66</td>\n",
       "      <td>0</td>\n",
       "    </tr>\n",
       "    <tr>\n",
       "      <th>3</th>\n",
       "      <td>1.0</td>\n",
       "      <td>-0.966272</td>\n",
       "      <td>-0.185226</td>\n",
       "      <td>1.792993</td>\n",
       "      <td>-0.863291</td>\n",
       "      <td>-0.010309</td>\n",
       "      <td>1.247203</td>\n",
       "      <td>0.237609</td>\n",
       "      <td>0.377436</td>\n",
       "      <td>-1.387024</td>\n",
       "      <td>...</td>\n",
       "      <td>-0.108300</td>\n",
       "      <td>0.005274</td>\n",
       "      <td>-0.190321</td>\n",
       "      <td>-1.175575</td>\n",
       "      <td>0.647376</td>\n",
       "      <td>-0.221929</td>\n",
       "      <td>0.062723</td>\n",
       "      <td>0.061458</td>\n",
       "      <td>123.50</td>\n",
       "      <td>0</td>\n",
       "    </tr>\n",
       "    <tr>\n",
       "      <th>4</th>\n",
       "      <td>2.0</td>\n",
       "      <td>-1.158233</td>\n",
       "      <td>0.877737</td>\n",
       "      <td>1.548718</td>\n",
       "      <td>0.403034</td>\n",
       "      <td>-0.407193</td>\n",
       "      <td>0.095921</td>\n",
       "      <td>0.592941</td>\n",
       "      <td>-0.270533</td>\n",
       "      <td>0.817739</td>\n",
       "      <td>...</td>\n",
       "      <td>-0.009431</td>\n",
       "      <td>0.798278</td>\n",
       "      <td>-0.137458</td>\n",
       "      <td>0.141267</td>\n",
       "      <td>-0.206010</td>\n",
       "      <td>0.502292</td>\n",
       "      <td>0.219422</td>\n",
       "      <td>0.215153</td>\n",
       "      <td>69.99</td>\n",
       "      <td>0</td>\n",
       "    </tr>\n",
       "    <tr>\n",
       "      <th>...</th>\n",
       "      <td>...</td>\n",
       "      <td>...</td>\n",
       "      <td>...</td>\n",
       "      <td>...</td>\n",
       "      <td>...</td>\n",
       "      <td>...</td>\n",
       "      <td>...</td>\n",
       "      <td>...</td>\n",
       "      <td>...</td>\n",
       "      <td>...</td>\n",
       "      <td>...</td>\n",
       "      <td>...</td>\n",
       "      <td>...</td>\n",
       "      <td>...</td>\n",
       "      <td>...</td>\n",
       "      <td>...</td>\n",
       "      <td>...</td>\n",
       "      <td>...</td>\n",
       "      <td>...</td>\n",
       "      <td>...</td>\n",
       "      <td>...</td>\n",
       "    </tr>\n",
       "    <tr>\n",
       "      <th>284802</th>\n",
       "      <td>172786.0</td>\n",
       "      <td>-11.881118</td>\n",
       "      <td>10.071785</td>\n",
       "      <td>-9.834783</td>\n",
       "      <td>-2.066656</td>\n",
       "      <td>-5.364473</td>\n",
       "      <td>-2.606837</td>\n",
       "      <td>-4.918215</td>\n",
       "      <td>7.305334</td>\n",
       "      <td>1.914428</td>\n",
       "      <td>...</td>\n",
       "      <td>0.213454</td>\n",
       "      <td>0.111864</td>\n",
       "      <td>1.014480</td>\n",
       "      <td>-0.509348</td>\n",
       "      <td>1.436807</td>\n",
       "      <td>0.250034</td>\n",
       "      <td>0.943651</td>\n",
       "      <td>0.823731</td>\n",
       "      <td>0.77</td>\n",
       "      <td>0</td>\n",
       "    </tr>\n",
       "    <tr>\n",
       "      <th>284803</th>\n",
       "      <td>172787.0</td>\n",
       "      <td>-0.732789</td>\n",
       "      <td>-0.055080</td>\n",
       "      <td>2.035030</td>\n",
       "      <td>-0.738589</td>\n",
       "      <td>0.868229</td>\n",
       "      <td>1.058415</td>\n",
       "      <td>0.024330</td>\n",
       "      <td>0.294869</td>\n",
       "      <td>0.584800</td>\n",
       "      <td>...</td>\n",
       "      <td>0.214205</td>\n",
       "      <td>0.924384</td>\n",
       "      <td>0.012463</td>\n",
       "      <td>-1.016226</td>\n",
       "      <td>-0.606624</td>\n",
       "      <td>-0.395255</td>\n",
       "      <td>0.068472</td>\n",
       "      <td>-0.053527</td>\n",
       "      <td>24.79</td>\n",
       "      <td>0</td>\n",
       "    </tr>\n",
       "    <tr>\n",
       "      <th>284804</th>\n",
       "      <td>172788.0</td>\n",
       "      <td>1.919565</td>\n",
       "      <td>-0.301254</td>\n",
       "      <td>-3.249640</td>\n",
       "      <td>-0.557828</td>\n",
       "      <td>2.630515</td>\n",
       "      <td>3.031260</td>\n",
       "      <td>-0.296827</td>\n",
       "      <td>0.708417</td>\n",
       "      <td>0.432454</td>\n",
       "      <td>...</td>\n",
       "      <td>0.232045</td>\n",
       "      <td>0.578229</td>\n",
       "      <td>-0.037501</td>\n",
       "      <td>0.640134</td>\n",
       "      <td>0.265745</td>\n",
       "      <td>-0.087371</td>\n",
       "      <td>0.004455</td>\n",
       "      <td>-0.026561</td>\n",
       "      <td>67.88</td>\n",
       "      <td>0</td>\n",
       "    </tr>\n",
       "    <tr>\n",
       "      <th>284805</th>\n",
       "      <td>172788.0</td>\n",
       "      <td>-0.240440</td>\n",
       "      <td>0.530483</td>\n",
       "      <td>0.702510</td>\n",
       "      <td>0.689799</td>\n",
       "      <td>-0.377961</td>\n",
       "      <td>0.623708</td>\n",
       "      <td>-0.686180</td>\n",
       "      <td>0.679145</td>\n",
       "      <td>0.392087</td>\n",
       "      <td>...</td>\n",
       "      <td>0.265245</td>\n",
       "      <td>0.800049</td>\n",
       "      <td>-0.163298</td>\n",
       "      <td>0.123205</td>\n",
       "      <td>-0.569159</td>\n",
       "      <td>0.546668</td>\n",
       "      <td>0.108821</td>\n",
       "      <td>0.104533</td>\n",
       "      <td>10.00</td>\n",
       "      <td>0</td>\n",
       "    </tr>\n",
       "    <tr>\n",
       "      <th>284806</th>\n",
       "      <td>172792.0</td>\n",
       "      <td>-0.533413</td>\n",
       "      <td>-0.189733</td>\n",
       "      <td>0.703337</td>\n",
       "      <td>-0.506271</td>\n",
       "      <td>-0.012546</td>\n",
       "      <td>-0.649617</td>\n",
       "      <td>1.577006</td>\n",
       "      <td>-0.414650</td>\n",
       "      <td>0.486180</td>\n",
       "      <td>...</td>\n",
       "      <td>0.261057</td>\n",
       "      <td>0.643078</td>\n",
       "      <td>0.376777</td>\n",
       "      <td>0.008797</td>\n",
       "      <td>-0.473649</td>\n",
       "      <td>-0.818267</td>\n",
       "      <td>-0.002415</td>\n",
       "      <td>0.013649</td>\n",
       "      <td>217.00</td>\n",
       "      <td>0</td>\n",
       "    </tr>\n",
       "  </tbody>\n",
       "</table>\n",
       "<p>284807 rows × 31 columns</p>\n",
       "</div>"
      ],
      "text/plain": [
       "            Time         V1         V2        V3        V4        V5  \\\n",
       "0            0.0  -1.359807  -0.072781  2.536347  1.378155 -0.338321   \n",
       "1            0.0   1.191857   0.266151  0.166480  0.448154  0.060018   \n",
       "2            1.0  -1.358354  -1.340163  1.773209  0.379780 -0.503198   \n",
       "3            1.0  -0.966272  -0.185226  1.792993 -0.863291 -0.010309   \n",
       "4            2.0  -1.158233   0.877737  1.548718  0.403034 -0.407193   \n",
       "...          ...        ...        ...       ...       ...       ...   \n",
       "284802  172786.0 -11.881118  10.071785 -9.834783 -2.066656 -5.364473   \n",
       "284803  172787.0  -0.732789  -0.055080  2.035030 -0.738589  0.868229   \n",
       "284804  172788.0   1.919565  -0.301254 -3.249640 -0.557828  2.630515   \n",
       "284805  172788.0  -0.240440   0.530483  0.702510  0.689799 -0.377961   \n",
       "284806  172792.0  -0.533413  -0.189733  0.703337 -0.506271 -0.012546   \n",
       "\n",
       "              V6        V7        V8        V9  ...       V21       V22  \\\n",
       "0       0.462388  0.239599  0.098698  0.363787  ... -0.018307  0.277838   \n",
       "1      -0.082361 -0.078803  0.085102 -0.255425  ... -0.225775 -0.638672   \n",
       "2       1.800499  0.791461  0.247676 -1.514654  ...  0.247998  0.771679   \n",
       "3       1.247203  0.237609  0.377436 -1.387024  ... -0.108300  0.005274   \n",
       "4       0.095921  0.592941 -0.270533  0.817739  ... -0.009431  0.798278   \n",
       "...          ...       ...       ...       ...  ...       ...       ...   \n",
       "284802 -2.606837 -4.918215  7.305334  1.914428  ...  0.213454  0.111864   \n",
       "284803  1.058415  0.024330  0.294869  0.584800  ...  0.214205  0.924384   \n",
       "284804  3.031260 -0.296827  0.708417  0.432454  ...  0.232045  0.578229   \n",
       "284805  0.623708 -0.686180  0.679145  0.392087  ...  0.265245  0.800049   \n",
       "284806 -0.649617  1.577006 -0.414650  0.486180  ...  0.261057  0.643078   \n",
       "\n",
       "             V23       V24       V25       V26       V27       V28  Amount  \\\n",
       "0      -0.110474  0.066928  0.128539 -0.189115  0.133558 -0.021053  149.62   \n",
       "1       0.101288 -0.339846  0.167170  0.125895 -0.008983  0.014724    2.69   \n",
       "2       0.909412 -0.689281 -0.327642 -0.139097 -0.055353 -0.059752  378.66   \n",
       "3      -0.190321 -1.175575  0.647376 -0.221929  0.062723  0.061458  123.50   \n",
       "4      -0.137458  0.141267 -0.206010  0.502292  0.219422  0.215153   69.99   \n",
       "...          ...       ...       ...       ...       ...       ...     ...   \n",
       "284802  1.014480 -0.509348  1.436807  0.250034  0.943651  0.823731    0.77   \n",
       "284803  0.012463 -1.016226 -0.606624 -0.395255  0.068472 -0.053527   24.79   \n",
       "284804 -0.037501  0.640134  0.265745 -0.087371  0.004455 -0.026561   67.88   \n",
       "284805 -0.163298  0.123205 -0.569159  0.546668  0.108821  0.104533   10.00   \n",
       "284806  0.376777  0.008797 -0.473649 -0.818267 -0.002415  0.013649  217.00   \n",
       "\n",
       "        Class  \n",
       "0           0  \n",
       "1           0  \n",
       "2           0  \n",
       "3           0  \n",
       "4           0  \n",
       "...       ...  \n",
       "284802      0  \n",
       "284803      0  \n",
       "284804      0  \n",
       "284805      0  \n",
       "284806      0  \n",
       "\n",
       "[284807 rows x 31 columns]"
      ]
     },
     "execution_count": 4,
     "metadata": {},
     "output_type": "execute_result"
    }
   ],
   "source": [
    "df"
   ]
  },
  {
   "cell_type": "markdown",
   "metadata": {
    "id": "aDB-3nZ4jaxS"
   },
   "source": [
    "- To protect the user's identity and the security of their confidential information, the dataset provider has applied Principal Component Analysis transformation on the original numerical features and compressed it into 28 principals components.\n",
    "\n",
    "- Only two features have not been transformed i.e. 1) Time and 2) Amount\n",
    "\n",
    "- The feature class will be target column with user labels as:\n",
    "    *   0 : non-fradulent\n",
    "    *   1 : fraudulent\n",
    "\n",
    "\n",
    "  \n"
   ]
  },
  {
   "cell_type": "code",
   "execution_count": 5,
   "metadata": {
    "colab": {
     "base_uri": "https://localhost:8080/"
    },
    "executionInfo": {
     "elapsed": 56,
     "status": "ok",
     "timestamp": 1706446229094,
     "user": {
      "displayName": "PRANIT AMBULKAR",
      "userId": "01972083617876889196"
     },
     "user_tz": -330
    },
    "id": "1z7faaiHjOAU",
    "outputId": "5fc52527-f2e3-4534-e303-babfa21ed504"
   },
   "outputs": [
    {
     "name": "stdout",
     "output_type": "stream",
     "text": [
      "<class 'pandas.core.frame.DataFrame'>\n",
      "RangeIndex: 284807 entries, 0 to 284806\n",
      "Data columns (total 31 columns):\n",
      " #   Column  Non-Null Count   Dtype  \n",
      "---  ------  --------------   -----  \n",
      " 0   Time    284807 non-null  float64\n",
      " 1   V1      284807 non-null  float64\n",
      " 2   V2      284807 non-null  float64\n",
      " 3   V3      284807 non-null  float64\n",
      " 4   V4      284807 non-null  float64\n",
      " 5   V5      284807 non-null  float64\n",
      " 6   V6      284807 non-null  float64\n",
      " 7   V7      284807 non-null  float64\n",
      " 8   V8      284807 non-null  float64\n",
      " 9   V9      284807 non-null  float64\n",
      " 10  V10     284807 non-null  float64\n",
      " 11  V11     284807 non-null  float64\n",
      " 12  V12     284807 non-null  float64\n",
      " 13  V13     284807 non-null  float64\n",
      " 14  V14     284807 non-null  float64\n",
      " 15  V15     284807 non-null  float64\n",
      " 16  V16     284807 non-null  float64\n",
      " 17  V17     284807 non-null  float64\n",
      " 18  V18     284807 non-null  float64\n",
      " 19  V19     284807 non-null  float64\n",
      " 20  V20     284807 non-null  float64\n",
      " 21  V21     284807 non-null  float64\n",
      " 22  V22     284807 non-null  float64\n",
      " 23  V23     284807 non-null  float64\n",
      " 24  V24     284807 non-null  float64\n",
      " 25  V25     284807 non-null  float64\n",
      " 26  V26     284807 non-null  float64\n",
      " 27  V27     284807 non-null  float64\n",
      " 28  V28     284807 non-null  float64\n",
      " 29  Amount  284807 non-null  float64\n",
      " 30  Class   284807 non-null  int64  \n",
      "dtypes: float64(30), int64(1)\n",
      "memory usage: 67.4 MB\n"
     ]
    }
   ],
   "source": [
    "df.info()"
   ]
  },
  {
   "cell_type": "code",
   "execution_count": 6,
   "metadata": {
    "colab": {
     "base_uri": "https://localhost:8080/"
    },
    "executionInfo": {
     "elapsed": 46,
     "status": "ok",
     "timestamp": 1706446229095,
     "user": {
      "displayName": "PRANIT AMBULKAR",
      "userId": "01972083617876889196"
     },
     "user_tz": -330
    },
    "id": "nWLhESMmltaB",
    "outputId": "e7501ee8-6929-450d-fcbb-522038376968"
   },
   "outputs": [
    {
     "data": {
      "text/plain": [
       "Time      0\n",
       "V1        0\n",
       "V2        0\n",
       "V3        0\n",
       "V4        0\n",
       "V5        0\n",
       "V6        0\n",
       "V7        0\n",
       "V8        0\n",
       "V9        0\n",
       "V10       0\n",
       "V11       0\n",
       "V12       0\n",
       "V13       0\n",
       "V14       0\n",
       "V15       0\n",
       "V16       0\n",
       "V17       0\n",
       "V18       0\n",
       "V19       0\n",
       "V20       0\n",
       "V21       0\n",
       "V22       0\n",
       "V23       0\n",
       "V24       0\n",
       "V25       0\n",
       "V26       0\n",
       "V27       0\n",
       "V28       0\n",
       "Amount    0\n",
       "Class     0\n",
       "dtype: int64"
      ]
     },
     "execution_count": 6,
     "metadata": {},
     "output_type": "execute_result"
    }
   ],
   "source": [
    "df.isnull().sum()"
   ]
  },
  {
   "cell_type": "markdown",
   "metadata": {
    "id": "ElhOJzJXlz2W"
   },
   "source": [
    "The dataset exclusively comprises numerical features, and notably, there are no instance of missing values. Consequently, there is **no** need for **null-value handling** in this dataset."
   ]
  },
  {
   "cell_type": "markdown",
   "metadata": {
    "id": "6dfv2Uurm0_e"
   },
   "source": [
    "# Exploratory Data Analysis"
   ]
  },
  {
   "cell_type": "markdown",
   "metadata": {
    "id": "OgTyiVaqm8Yr"
   },
   "source": [
    "For the subsequent step, we will conduct fundamental **Exploratory** **Data Analysis (EDA)** on the dataset to enhance our understanding and extract valuable insights."
   ]
  },
  {
   "cell_type": "code",
   "execution_count": 7,
   "metadata": {
    "executionInfo": {
     "elapsed": 35,
     "status": "ok",
     "timestamp": 1706446229096,
     "user": {
      "displayName": "PRANIT AMBULKAR",
      "userId": "01972083617876889196"
     },
     "user_tz": -330
    },
    "id": "VIixmPbHmJpj"
   },
   "outputs": [],
   "source": [
    "# before that we will set the default graph figsize property\n",
    "plt.rcParams['figure.figsize']=[8,6]"
   ]
  },
  {
   "cell_type": "code",
   "execution_count": 8,
   "metadata": {
    "colab": {
     "base_uri": "https://localhost:8080/"
    },
    "executionInfo": {
     "elapsed": 34,
     "status": "ok",
     "timestamp": 1706446229097,
     "user": {
      "displayName": "PRANIT AMBULKAR",
      "userId": "01972083617876889196"
     },
     "user_tz": -330
    },
    "id": "JSDK5sYDntQY",
    "outputId": "7043e60c-959e-4e89-ecf2-b5cdce4be48a"
   },
   "outputs": [
    {
     "data": {
      "text/plain": [
       "0    284315\n",
       "1       492\n",
       "Name: Class, dtype: int64"
      ]
     },
     "execution_count": 8,
     "metadata": {},
     "output_type": "execute_result"
    }
   ],
   "source": [
    "Class = df['Class'].value_counts()\n",
    "Class"
   ]
  },
  {
   "cell_type": "code",
   "execution_count": 9,
   "metadata": {
    "colab": {
     "base_uri": "https://localhost:8080/",
     "height": 569
    },
    "executionInfo": {
     "elapsed": 846,
     "status": "ok",
     "timestamp": 1706446229917,
     "user": {
      "displayName": "PRANIT AMBULKAR",
      "userId": "01972083617876889196"
     },
     "user_tz": -330
    },
    "id": "wxoNGmZWoqpZ",
    "outputId": "89325eed-8473-4260-e772-dc31beb02e50"
   },
   "outputs": [
    {
     "data": {
      "image/png": "[encoded data removed]",
      "text/plain": [
       "<Figure size 800x600 with 1 Axes>"
      ]
     },
     "metadata": {},
     "output_type": "display_data"
    }
   ],
   "source": [
    "labels = ['Non Fradulent','Fraudulent']\n",
    "plt.bar(labels, Class.values, color=['Red','Green'])\n",
    "plt.title(\"Non-Fraudulent Vs Fraudulent Transactions\")\n",
    "plt.xlabel('Class')\n",
    "plt.ylabel('Count')\n",
    "plt.show()"
   ]
  },
  {
   "cell_type": "markdown",
   "metadata": {
    "id": "3nO2dXaDpzte"
   },
   "source": [
    "- The barplot reveals a significant imbalance between classes (0-Non Fradulent) and (1-Fraudulent).\n",
    "\n",
    "- Majority of features are in PCA form , with the exceptions being Time and Amount ,a more in-depth examination of these two features is required."
   ]
  },
  {
   "cell_type": "code",
   "execution_count": 10,
   "metadata": {
    "colab": {
     "base_uri": "https://localhost:8080/"
    },
    "executionInfo": {
     "elapsed": 50,
     "status": "ok",
     "timestamp": 1706446229918,
     "user": {
      "displayName": "PRANIT AMBULKAR",
      "userId": "01972083617876889196"
     },
     "user_tz": -330
    },
    "id": "s5FZfq3_o-aZ",
    "outputId": "0e1e15e8-a0be-4a73-c4b5-c1533fe64d28"
   },
   "outputs": [
    {
     "data": {
      "text/plain": [
       "count    284807.000000\n",
       "mean      94813.859575\n",
       "std       47488.145955\n",
       "min           0.000000\n",
       "25%       54201.500000\n",
       "50%       84692.000000\n",
       "75%      139320.500000\n",
       "max      172792.000000\n",
       "Name: Time, dtype: float64"
      ]
     },
     "execution_count": 10,
     "metadata": {},
     "output_type": "execute_result"
    }
   ],
   "source": [
    "df['Time'].describe()"
   ]
  },
  {
   "cell_type": "markdown",
   "metadata": {
    "id": "FegOgG_ov_rY"
   },
   "source": [
    "- The feature we are most interested in is the \"Amount\". Here us the summary of the feature."
   ]
  },
  {
   "cell_type": "code",
   "execution_count": 11,
   "metadata": {
    "colab": {
     "base_uri": "https://localhost:8080/"
    },
    "executionInfo": {
     "elapsed": 37,
     "status": "ok",
     "timestamp": 1706446229918,
     "user": {
      "displayName": "PRANIT AMBULKAR",
      "userId": "01972083617876889196"
     },
     "user_tz": -330
    },
    "id": "1pGTPf6owTFv",
    "outputId": "8009abd8-383f-4ee3-8964-68ddade73eba"
   },
   "outputs": [
    {
     "data": {
      "text/plain": [
       "count    284807.000000\n",
       "mean         88.349619\n",
       "std         250.120109\n",
       "min           0.000000\n",
       "25%           5.600000\n",
       "50%          22.000000\n",
       "75%          77.165000\n",
       "max       25691.160000\n",
       "Name: Amount, dtype: float64"
      ]
     },
     "execution_count": 11,
     "metadata": {},
     "output_type": "execute_result"
    }
   ],
   "source": [
    "df['Amount'].describe()"
   ]
  },
  {
   "cell_type": "markdown",
   "metadata": {
    "id": "E7v7ebSGrA4J"
   },
   "source": [
    "- We will initiate the visualization of transaction counts across hours, starting with the entire dataset. Subsequently, we will partition the dataset into fraudulent and non-fradulent transactions to gain a more detailed perspective."
   ]
  },
  {
   "cell_type": "markdown",
   "metadata": {
    "id": "RZngW6zu34AP"
   },
   "source": [
    "- Now we will check the number of occurances of each class label and we will plot the information using matplotlib."
   ]
  },
  {
   "cell_type": "code",
   "execution_count": 12,
   "metadata": {
    "executionInfo": {
     "elapsed": 30,
     "status": "ok",
     "timestamp": 1706446229919,
     "user": {
      "displayName": "PRANIT AMBULKAR",
      "userId": "01972083617876889196"
     },
     "user_tz": -330
    },
    "id": "qC00IB564D62"
   },
   "outputs": [],
   "source": [
    "non_fraud = len(df[df.Class==0])\n",
    "fraud = len(df[df.Class==1])\n",
    "fraud_percentage = round((fraud/ (fraud+ non_fraud)) * 100, 2)"
   ]
  },
  {
   "cell_type": "code",
   "execution_count": 13,
   "metadata": {
    "colab": {
     "base_uri": "https://localhost:8080/"
    },
    "executionInfo": {
     "elapsed": 30,
     "status": "ok",
     "timestamp": 1706446229920,
     "user": {
      "displayName": "PRANIT AMBULKAR",
      "userId": "01972083617876889196"
     },
     "user_tz": -330
    },
    "id": "UN5bJpv34K-D",
    "outputId": "1def9abd-c973-4d3c-e0e8-31624fd2ec12"
   },
   "outputs": [
    {
     "name": "stdout",
     "output_type": "stream",
     "text": [
      "Number of Non-Fraudulent Transactions:  284315\n",
      "Number of Fraudulent Transactions:  492\n",
      "Percentage of Fraudulent Transactions:  0.17\n"
     ]
    }
   ],
   "source": [
    "print(\"Number of Non-Fraudulent Transactions: \",non_fraud)\n",
    "print(\"Number of Fraudulent Transactions: \", fraud)\n",
    "print(\"Percentage of Fraudulent Transactions: \",fraud_percentage)"
   ]
  },
  {
   "cell_type": "markdown",
   "metadata": {
    "id": "Nl_GECOi5zsF"
   },
   "source": [
    "- We can observe that the genuine transactions are over 99%.\n",
    "- We will apply scaling techniques on the \"Amount\" feature to transform the range of values.\n",
    "- We will drop the original \"Amount\" column and add a new column with the scaled values. We will also drop the \"Time\" columns as it is irrelevant.\n",
    "\n",
    "\n"
   ]
  },
  {
   "cell_type": "code",
   "execution_count": 14,
   "metadata": {
    "executionInfo": {
     "elapsed": 24,
     "status": "ok",
     "timestamp": 1706446229920,
     "user": {
      "displayName": "PRANIT AMBULKAR",
      "userId": "01972083617876889196"
     },
     "user_tz": -330
    },
    "id": "DYfMfDxb4-OC"
   },
   "outputs": [],
   "source": [
    "from sklearn.preprocessing import StandardScaler\n",
    "\n",
    "scaler = StandardScaler()\n",
    "\n",
    "df['Scaled_Amount'] = scaler.fit_transform(df['Amount'].values.reshape(-1,1))"
   ]
  },
  {
   "cell_type": "code",
   "execution_count": 15,
   "metadata": {
    "executionInfo": {
     "elapsed": 24,
     "status": "ok",
     "timestamp": 1706446229921,
     "user": {
      "displayName": "PRANIT AMBULKAR",
      "userId": "01972083617876889196"
     },
     "user_tz": -330
    },
    "id": "1dhMvQRQ7BKC"
   },
   "outputs": [],
   "source": [
    "df.drop(columns=['Amount','Time'], inplace=True ,axis=1)\n",
    "\n",
    "Y = df['Class']\n",
    "X = df.drop(['Class'], axis=1)"
   ]
  },
  {
   "cell_type": "markdown",
   "metadata": {
    "id": "x1KYHwOvwss-"
   },
   "source": [
    "- Now, we will split the credit card data with a split of 70-30 using train_test_split().\n",
    "- train_test_split() function in scikit-learn is a useful utility for splitting a dataset into training and testing sets."
   ]
  },
  {
   "cell_type": "markdown",
   "metadata": {
    "id": "_G-PByLuxxoN"
   },
   "source": [
    "- Parameters\n",
    "- X: Feature matrix\n",
    "- Y: Target variable\n",
    "- test_size: Proportion of the dataset to include in the test split. Here we have set the test_size as 0.3 means 30% of the data we take as testing data set.\n",
    "- random_state: we have set the seed for random number generation, to ensure the reproducibility"
   ]
  },
  {
   "cell_type": "code",
   "execution_count": 16,
   "metadata": {
    "executionInfo": {
     "elapsed": 23,
     "status": "ok",
     "timestamp": 1706446229921,
     "user": {
      "displayName": "PRANIT AMBULKAR",
      "userId": "01972083617876889196"
     },
     "user_tz": -330
    },
    "id": "-J_gagJG8EiX"
   },
   "outputs": [],
   "source": [
    "from sklearn.model_selection import train_test_split\n",
    "\n",
    "(train_X, test_X, train_Y, test_Y) = train_test_split(X,Y, test_size=0.3, random_state=42)\n"
   ]
  },
  {
   "cell_type": "code",
   "execution_count": 17,
   "metadata": {
    "colab": {
     "base_uri": "https://localhost:8080/"
    },
    "executionInfo": {
     "elapsed": 24,
     "status": "ok",
     "timestamp": 1706446229922,
     "user": {
      "displayName": "PRANIT AMBULKAR",
      "userId": "01972083617876889196"
     },
     "user_tz": -330
    },
    "id": "nUARQhTqyfMh",
    "outputId": "d9023594-282f-484b-cb11-6032ae3580f4"
   },
   "outputs": [
    {
     "name": "stdout",
     "output_type": "stream",
     "text": [
      "Shape of the training dataset train_X:  (199364, 29)\n",
      "Shape of the testing dataset test_X:  (85443, 29)\n"
     ]
    }
   ],
   "source": [
    "print(\"Shape of the training dataset train_X: \", train_X.shape)\n",
    "print(\"Shape of the testing dataset test_X: \", test_X.shape)"
   ]
  },
  {
   "cell_type": "markdown",
   "metadata": {
    "id": "qkznGaHAy1HX"
   },
   "source": [
    "**Applying Machine Learning Algorithm to Credit Card Dataset**"
   ]
  },
  {
   "cell_type": "markdown",
   "metadata": {
    "id": "8bvWagbEzh10"
   },
   "source": [
    "- We will explore various machine learning algorithms to determine the most effective model for our binary classification problem.\n",
    "\n",
    "- The task involves predicting one of the two class labels. We plan to access the performance of different algorithms, such as Random Forest and Decision Tree identify the most suitable solution for our specific problem\n",
    "\n",
    "- Our approach involves constructing Random Forest and Decision Tree classifiers to identify the most effective model."
   ]
  },
  {
   "cell_type": "markdown",
   "metadata": {
    "id": "A_kGOfVl0rRM"
   },
   "source": [
    "**Decision Tree Algorithm**\n",
    "\n",
    "- The Decision Tree Algorithm is a supervised machine learning technique employed for both classification and regression tasks. Its objective is to create a training model capables of predicting the value of a target class variable.\n",
    "- This is achieved by learning straighforward if-then-else decision rules derived from the patterns present in the training data."
   ]
  },
  {
   "cell_type": "markdown",
   "metadata": {
    "id": "4CAdHqh91kO_"
   },
   "source": [
    "**Random Forest Algorithm**\n",
    "\n",
    "- Random Forest is supervised Machine Learning algorithm. It creates a \"forest\" out of an ensemble of \"decision trees\", which are normally trained using the  \"bagging\" technique.\n",
    "\n",
    "- The bagging method's basic principal is that combining different learning models improved the outcome.To get a more precise and reliable forecast, random forest creates several decision trees and merges them."
   ]
  },
  {
   "cell_type": "markdown",
   "metadata": {
    "id": "FQUMlDXd2gsu"
   },
   "source": [
    "**Training and Evaluation of models on the dataset**"
   ]
  },
  {
   "cell_type": "code",
   "execution_count": 18,
   "metadata": {
    "executionInfo": {
     "elapsed": 699,
     "status": "ok",
     "timestamp": 1706446230603,
     "user": {
      "displayName": "PRANIT AMBULKAR",
      "userId": "01972083617876889196"
     },
     "user_tz": -330
    },
    "id": "Du6lIidBzVAh"
   },
   "outputs": [],
   "source": [
    "from sklearn.ensemble import RandomForestClassifier\n",
    "from sklearn.tree import DecisionTreeClassifier"
   ]
  },
  {
   "cell_type": "code",
   "execution_count": 19,
   "metadata": {
    "executionInfo": {
     "elapsed": 18,
     "status": "ok",
     "timestamp": 1706446230604,
     "user": {
      "displayName": "PRANIT AMBULKAR",
      "userId": "01972083617876889196"
     },
     "user_tz": -330
    },
    "id": "7hQm72Mj2yDN"
   },
   "outputs": [],
   "source": [
    "# Decision Tree\n",
    "decision_tree = DecisionTreeClassifier()\n",
    "\n",
    "# Random Forest\n",
    "random_forest = RandomForestClassifier(n_estimators=100)"
   ]
  },
  {
   "cell_type": "markdown",
   "metadata": {
    "id": "SZSZu9G_4quZ"
   },
   "source": [
    "- Here we are creating a **RandomForestClassifier** with 100trees in the forest.\n",
    "- The large number of trees will generally lead to better performance, but it may also increase the training time."
   ]
  },
  {
   "cell_type": "code",
   "execution_count": 20,
   "metadata": {
    "executionInfo": {
     "elapsed": 22324,
     "status": "ok",
     "timestamp": 1706446252913,
     "user": {
      "displayName": "PRANIT AMBULKAR",
      "userId": "01972083617876889196"
     },
     "user_tz": -330
    },
    "id": "lyitbtxx4ooq"
   },
   "outputs": [],
   "source": [
    "# Decision Tree Classifier\n",
    "decision_tree.fit(train_X, train_Y)\n",
    "predictions_data = decision_tree.predict(test_X)"
   ]
  },
  {
   "cell_type": "markdown",
   "metadata": {
    "id": "WwI6MsqL5qHo"
   },
   "source": [
    "- Now we will check the score of the Decision Tree model"
   ]
  },
  {
   "cell_type": "code",
   "execution_count": 21,
   "metadata": {
    "colab": {
     "base_uri": "https://localhost:8080/"
    },
    "executionInfo": {
     "elapsed": 30,
     "status": "ok",
     "timestamp": 1706446252915,
     "user": {
      "displayName": "PRANIT AMBULKAR",
      "userId": "01972083617876889196"
     },
     "user_tz": -330
    },
    "id": "k86wLG1P5ghE",
    "outputId": "b66438f4-5e4b-45db-f3c6-cfe333ccddca"
   },
   "outputs": [
    {
     "name": "stdout",
     "output_type": "stream",
     "text": [
      "Decision Tree Score is:  99.90168884519505\n"
     ]
    }
   ],
   "source": [
    "\n",
    "decision_tree_score = decision_tree.score(test_X, test_Y) * 100\n",
    "\n",
    "# Printing the score of the classifier\n",
    "print(\"Decision Tree Score is: \", decision_tree_score)"
   ]
  },
  {
   "cell_type": "code",
   "execution_count": 22,
   "metadata": {
    "executionInfo": {
     "elapsed": 250929,
     "status": "ok",
     "timestamp": 1706446503831,
     "user": {
      "displayName": "PRANIT AMBULKAR",
      "userId": "01972083617876889196"
     },
     "user_tz": -330
    },
    "id": "YtQq-YnN5-CM"
   },
   "outputs": [],
   "source": [
    "# Random Forest\n",
    "random_forest.fit(train_X, train_Y)\n",
    "predictions_data_rf = random_forest.predict(test_X)"
   ]
  },
  {
   "cell_type": "code",
   "execution_count": 23,
   "metadata": {
    "colab": {
     "base_uri": "https://localhost:8080/"
    },
    "executionInfo": {
     "elapsed": 724,
     "status": "ok",
     "timestamp": 1706446504541,
     "user": {
      "displayName": "PRANIT AMBULKAR",
      "userId": "01972083617876889196"
     },
     "user_tz": -330
    },
    "id": "KUyYUuXh6wN9",
    "outputId": "2b119551-804c-4992-f011-58fae67aa533"
   },
   "outputs": [
    {
     "name": "stdout",
     "output_type": "stream",
     "text": [
      "Random Forest Score is:  99.9637185023934\n"
     ]
    }
   ],
   "source": [
    "random_forest_score = random_forest.score(test_X, test_Y) * 100\n",
    "\n",
    "# Printing the score of the Random Forest Classifiers\n",
    "print(\"Random Forest Score is: \", random_forest_score)"
   ]
  },
  {
   "cell_type": "code",
   "execution_count": 24,
   "metadata": {
    "colab": {
     "base_uri": "https://localhost:8080/"
    },
    "executionInfo": {
     "elapsed": 431,
     "status": "ok",
     "timestamp": 1706446504963,
     "user": {
      "displayName": "PRANIT AMBULKAR",
      "userId": "01972083617876889196"
     },
     "user_tz": -330
    },
    "id": "oQ5eWAVK77EL",
    "outputId": "780bb68c-4131-40e1-9ff9-21806100d2ec"
   },
   "outputs": [
    {
     "name": "stdout",
     "output_type": "stream",
     "text": [
      "Decision Tree:  99.9017\n",
      "Random Forest:  99.9637\n"
     ]
    }
   ],
   "source": [
    "# Printing the scores of the both classifiers\n",
    "print(\"Decision Tree: \", round((decision_tree_score),4))\n",
    "print(\"Random Forest: \", round((random_forest_score),4))"
   ]
  },
  {
   "cell_type": "markdown",
   "metadata": {
    "id": "IEF1J6Tw8Qwg"
   },
   "source": [
    "- The Random Forest classifier has slightly an edge over the Decision Tree Classifier.\n"
   ]
  },
  {
   "cell_type": "markdown",
   "metadata": {
    "id": "X9zLltuy8yuN"
   },
   "source": [
    "**Evaluation Metrics**"
   ]
  },
  {
   "cell_type": "markdown",
   "metadata": {
    "id": "uuT7HtDi8ysE"
   },
   "source": [
    "- We will create a function to print the metrics:\n",
    "\n",
    "1.   Accuracy_score\n",
    "2.   Precision_score\n",
    "3.   Confusion_matrix\n",
    "4.   Recall_score\n",
    "5.   F-1 score"
   ]
  },
  {
   "cell_type": "code",
   "execution_count": 25,
   "metadata": {
    "executionInfo": {
     "elapsed": 47,
     "status": "ok",
     "timestamp": 1706446504965,
     "user": {
      "displayName": "PRANIT AMBULKAR",
      "userId": "01972083617876889196"
     },
     "user_tz": -330
    },
    "id": "mEBWW4x08Pso"
   },
   "outputs": [],
   "source": [
    "from sklearn.metrics import accuracy_score, precision_score, confusion_matrix, recall_score, f1_score"
   ]
  },
  {
   "cell_type": "markdown",
   "metadata": {
    "id": "hAx5FYWN_Fpc"
   },
   "source": [
    "**Evaluation of Decision Tree Model**"
   ]
  },
  {
   "cell_type": "code",
   "execution_count": 26,
   "metadata": {
    "colab": {
     "base_uri": "https://localhost:8080/"
    },
    "executionInfo": {
     "elapsed": 46,
     "status": "ok",
     "timestamp": 1706446504966,
     "user": {
      "displayName": "PRANIT AMBULKAR",
      "userId": "01972083617876889196"
     },
     "user_tz": -330
    },
    "id": "zoyCxIP79lK5",
    "outputId": "f08eddac-10e6-4f6c-e687-c68924bebc99"
   },
   "outputs": [
    {
     "name": "stdout",
     "output_type": "stream",
     "text": [
      "Evaluation of Decision Tree Model: \n",
      "Accuracy: 0.999\n",
      "Precision: 0.6688\n",
      "recall_score: 0.7574\n",
      "F1-Score: 0.7103\n"
     ]
    }
   ],
   "source": [
    "print(\"Evaluation of Decision Tree Model: \")\n",
    "\n",
    "print(\"Accuracy:\",round(accuracy_score(test_Y,predictions_data),4))\n",
    "print(\"Precision:\",round(precision_score(test_Y,predictions_data),4))\n",
    "print(\"recall_score:\",round(recall_score(test_Y,predictions_data),4))\n",
    "print(\"F1-Score:\",round(f1_score(test_Y,predictions_data),4))"
   ]
  },
  {
   "cell_type": "markdown",
   "metadata": {
    "id": "swdYajUBAspU"
   },
   "source": [
    "**Evaluation metrics and Confusion Matrix for Decision Tree**\n"
   ]
  },
  {
   "cell_type": "code",
   "execution_count": 27,
   "metadata": {
    "colab": {
     "base_uri": "https://localhost:8080/"
    },
    "executionInfo": {
     "elapsed": 35,
     "status": "ok",
     "timestamp": 1706446504967,
     "user": {
      "displayName": "PRANIT AMBULKAR",
      "userId": "01972083617876889196"
     },
     "user_tz": -330
    },
    "id": "-HR5fCff-88N",
    "outputId": "95677732-a6a7-441c-b4ff-2f5d93d3542c"
   },
   "outputs": [
    {
     "name": "stdout",
     "output_type": "stream",
     "text": [
      "Evaluation of Random Forest Model: \n",
      "Accuracy: 0.9996\n",
      "Precision: 0.9268\n",
      "recall_score: 0.8382\n",
      "F1-Score: 0.8803\n"
     ]
    }
   ],
   "source": [
    "print(\"Evaluation of Random Forest Model: \")\n",
    "\n",
    "print(\"Accuracy:\",round(accuracy_score(test_Y,predictions_data_rf),4))\n",
    "print(\"Precision:\",round(precision_score(test_Y,predictions_data_rf),4))\n",
    "print(\"recall_score:\",round(recall_score(test_Y,predictions_data_rf),4))\n",
    "print(\"F1-Score:\",round(f1_score(test_Y,predictions_data_rf),4))"
   ]
  },
  {
   "cell_type": "code",
   "execution_count": 28,
   "metadata": {
    "colab": {
     "base_uri": "https://localhost:8080/"
    },
    "executionInfo": {
     "elapsed": 23,
     "status": "ok",
     "timestamp": 1706446504967,
     "user": {
      "displayName": "PRANIT AMBULKAR",
      "userId": "01972083617876889196"
     },
     "user_tz": -330
    },
    "id": "XQrOHiv2_kPN",
    "outputId": "38f27c9e-b11d-4644-d47b-0fac3f368492"
   },
   "outputs": [
    {
     "name": "stdout",
     "output_type": "stream",
     "text": [
      "   CM   -  DT\n",
      "[[85256    51]\n",
      " [   33   103]]\n"
     ]
    }
   ],
   "source": [
    "confusion_matrix_dt = confusion_matrix(test_Y, predictions_data.round())\n",
    "print(\"   CM   -  DT\") # CM = Confusion matrix and DT = Decision tree\n",
    "print(confusion_matrix_dt)"
   ]
  },
  {
   "cell_type": "code",
   "execution_count": 29,
   "metadata": {
    "colab": {
     "base_uri": "https://localhost:8080/",
     "height": 569
    },
    "executionInfo": {
     "elapsed": 1067,
     "status": "ok",
     "timestamp": 1706446506017,
     "user": {
      "displayName": "PRANIT AMBULKAR",
      "userId": "01972083617876889196"
     },
     "user_tz": -330
    },
    "id": "ZQglQpQjBTKD",
    "outputId": "e6fd07d2-a2e2-481a-a758-ae66d05302d5"
   },
   "outputs": [
    {
     "data": {
      "image/png": "[encoded data removed]",
      "text/plain": [
       "<Figure size 800x600 with 2 Axes>"
      ]
     },
     "metadata": {},
     "output_type": "display_data"
    }
   ],
   "source": [
    "# we will plot the confusion matrix\n",
    "plt.figure(figsize=[8,6])\n",
    "sns.heatmap(confusion_matrix_dt, annot=True , fmt='d' , cmap=\"Blues\",\n",
    "            xticklabels=[\"Predicted Non-Fraudulent\" , \"Predicted Fraudulent\"],\n",
    "            yticklabels=[\"Actual Non-Fraudulent\", \"Actual Fraudulent\"])\n",
    "plt.title(\"Confusion Matrix - Decision Tree\")\n",
    "plt.xlabel(\"Predicted Label\")\n",
    "plt.ylabel(\"True Label\")\n",
    "plt.show()\n",
    "\n",
    "# 0 - non fraudulent\n",
    "# 1 - fradulent"
   ]
  },
  {
   "cell_type": "markdown",
   "metadata": {
    "id": "Xm4UFbKIEEjK"
   },
   "source": [
    "We understand from the confusion matrix:\n",
    "\n",
    "- Non-Fraudulent transactions:\n",
    "\n",
    "\n",
    "1.   Correctly predicted as non-fraudulent(True Negative) 85260 transactions.\n",
    "2.   Incorrectly predicted as fraudulent(False Positive) 47 transactions.\n",
    "\n",
    "- Fraudulent Transactions:\n",
    "1.  Incorrectly predicted as non-fraudulent(False Negative) : 23 transactions\n",
    "2.  Correctly predicted as fraudulent(True Positive) : 113 transactions\n",
    "\n"
   ]
  },
  {
   "cell_type": "markdown",
   "metadata": {
    "id": "R3PagbbtEEfl"
   },
   "source": [
    "In-short summary:\n",
    "- The model correctly identified 113 fraudulent transactions.\n",
    "- It incorrectly identified 23 transactions as non-fraudulent.\n",
    "- It correctly identified 85260 non-fraudulent transactions.\n",
    "- It incorrectly identified 47 non-fraudulent transactions as fraudulent."
   ]
  },
  {
   "cell_type": "markdown",
   "metadata": {
    "id": "VAvkwv1WF-ci"
   },
   "source": [
    "**Evaluation Metrics and Confusion Matrix of Random Forest model**"
   ]
  },
  {
   "cell_type": "code",
   "execution_count": 30,
   "metadata": {
    "colab": {
     "base_uri": "https://localhost:8080/"
    },
    "executionInfo": {
     "elapsed": 22,
     "status": "ok",
     "timestamp": 1706446506019,
     "user": {
      "displayName": "PRANIT AMBULKAR",
      "userId": "01972083617876889196"
     },
     "user_tz": -330
    },
    "id": "8SSewka6B4IC",
    "outputId": "d12de3e6-90ff-4877-e508-4939f1d2f64f"
   },
   "outputs": [
    {
     "name": "stdout",
     "output_type": "stream",
     "text": [
      "   CM   -  RF\n",
      "[[85298     9]\n",
      " [   22   114]]\n"
     ]
    }
   ],
   "source": [
    "# Confusion Matrix\n",
    "confusion_matrix_rf = confusion_matrix(test_Y,predictions_data_rf.round())\n",
    "print(\"   CM   -  RF\") # CM = Confusion matrix and RF = RandomForest\n",
    "print(confusion_matrix_rf)"
   ]
  },
  {
   "cell_type": "code",
   "execution_count": 31,
   "metadata": {
    "colab": {
     "base_uri": "https://localhost:8080/",
     "height": 569
    },
    "executionInfo": {
     "elapsed": 1613,
     "status": "ok",
     "timestamp": 1706447764830,
     "user": {
      "displayName": "PRANIT AMBULKAR",
      "userId": "01972083617876889196"
     },
     "user_tz": -330
    },
    "id": "aVM5tCfC9aWE",
    "outputId": "0f934a2b-b1e8-47ff-f9a7-bd0852b32ae3"
   },
   "outputs": [
    {
     "data": {
      "image/png": "[encoded data removed]",
      "text/plain": [
       "<Figure size 800x600 with 2 Axes>"
      ]
     },
     "metadata": {},
     "output_type": "display_data"
    }
   ],
   "source": [
    "# we will plot the consfusion matrix\n",
    "plt.figure(figsize=[8,6])\n",
    "sns.heatmap(confusion_matrix_rf, annot=True , fmt='d' , cmap=\"Greens\",\n",
    "            xticklabels=[\"Predicted Non-Fraudulent\" , \"Predicted Fraudulent\"],\n",
    "            yticklabels=[\"Actual Non-Fraudulent\", \"Actual Fraudulent\"])\n",
    "plt.title(\"Confusion Matrix - Random Forest\")\n",
    "plt.xlabel(\"Predicted Label\")\n",
    "plt.ylabel(\"True Label\")\n",
    "plt.show()\n",
    "\n",
    "# 0 - non fraudulent\n",
    "# 1 - fradulent"
   ]
  },
  {
   "cell_type": "markdown",
   "metadata": {
    "id": "VZkOQqxX-U6u"
   },
   "source": [
    "We understand from the confusion matrix:\n",
    "\n",
    "- Non-Fraudulent transactions:\n",
    "\n",
    "\n",
    "1.   Correctly predicted as non-fraudulent(True Negative) 85302 transactions.\n",
    "2.   Incorrectly predicted as fraudulent(False Positive) 5 transactions.\n",
    "\n",
    "- Fraudulent Transactions:\n",
    "1.  Incorrectly predicted as non-fraudulent(False Negative) : 27 transactions\n",
    "2.  Correctly predicted as fraudulent(True Positive) : 109 transactions\n",
    "\n"
   ]
  },
  {
   "cell_type": "markdown",
   "metadata": {
    "id": "wqnH9onW-aGd"
   },
   "source": [
    "In-short summary:\n",
    "- The model correctly identified 109 fraudulent transactions.\n",
    "- It incorrectly identified 27 transactions as non-fraudulent.\n",
    "- It correctly identified 85302 non-fraudulent transactions.\n",
    "- It incorrectly identified only 5 non-fraudulent transactions as fraudulent."
   ]
  },
  {
   "cell_type": "markdown",
   "metadata": {
    "id": "6F3lFMjR_R4V"
   },
   "source": [
    "Class-Imbalance\n",
    "\n",
    "- The Random Forest model works better than Decision Trees. In the presenece of a class-Imbalance issue, where genuine transactions account for over 99% of the dataset and credit card fraud transactions constitute only 0.17%.\n",
    "\n",
    "- Training the model without addressing the imbalance can lead to biased predictions.\n",
    "\n",
    "- Despite the apparent accuracy, such a model may not effectively capture the nuances of the minority class (fraud transactions) and may not generalize well to real-world situations.\n",
    "\n",
    "- The class imbalance problem can be solved by various techniques. Oversampling is one of them."
   ]
  },
  {
   "cell_type": "code",
   "execution_count": 32,
   "metadata": {
    "colab": {
     "base_uri": "https://localhost:8080/"
    },
    "executionInfo": {
     "elapsed": 34,
     "status": "ok",
     "timestamp": 1706446506988,
     "user": {
      "displayName": "PRANIT AMBULKAR",
      "userId": "01972083617876889196"
     },
     "user_tz": -330
    },
    "id": "ZwuHi4HC9wru",
    "outputId": "7cb86373-c7ca-44b8-9272-36ac5bf5aec7"
   },
   "outputs": [
    {
     "name": "stdout",
     "output_type": "stream",
     "text": [
      "Resampled shape of X:  (568630, 29)\n",
      "Resampled shape of Y:  (568630,)\n"
     ]
    }
   ],
   "source": [
    "# we will use the SMOT (Synthetic Minority Oversampling Technique, or SMOTE)\n",
    "# It is the method of data augumentation for the minority class.\n",
    "\n",
    "from imblearn.over_sampling import SMOTE\n",
    "\n",
    "X_resampled, Y_resampled = SMOTE().fit_resample(X,Y)\n",
    "\n",
    "print(\"Resampled shape of X: \",X_resampled.shape)\n",
    "print(\"Resampled shape of Y: \",Y_resampled.shape)\n"
   ]
  },
  {
   "cell_type": "code",
   "execution_count": 33,
   "metadata": {
    "colab": {
     "base_uri": "https://localhost:8080/"
    },
    "executionInfo": {
     "elapsed": 24,
     "status": "ok",
     "timestamp": 1706446506988,
     "user": {
      "displayName": "PRANIT AMBULKAR",
      "userId": "01972083617876889196"
     },
     "user_tz": -330
    },
    "id": "eTeU1yAWBQ2u",
    "outputId": "ba38a136-a959-46f2-ff2a-5eb588b01394"
   },
   "outputs": [
    {
     "name": "stdout",
     "output_type": "stream",
     "text": [
      "Counter({0: 284315, 1: 284315})\n"
     ]
    }
   ],
   "source": [
    "from collections import Counter\n",
    "value_counts = Counter(Y_resampled)\n",
    "print(value_counts)"
   ]
  },
  {
   "cell_type": "code",
   "execution_count": 34,
   "metadata": {
    "executionInfo": {
     "elapsed": 19,
     "status": "ok",
     "timestamp": 1706446506989,
     "user": {
      "displayName": "PRANIT AMBULKAR",
      "userId": "01972083617876889196"
     },
     "user_tz": -330
    },
    "id": "H7ayGQKYBaV6"
   },
   "outputs": [],
   "source": [
    "(train_X, test_X, train_Y, test_Y) = train_test_split(X_resampled, Y_resampled, test_size=0.3, random_state=42)"
   ]
  },
  {
   "cell_type": "code",
   "execution_count": 35,
   "metadata": {
    "colab": {
     "base_uri": "https://localhost:8080/",
     "height": 74
    },
    "executionInfo": {
     "elapsed": 463444,
     "status": "ok",
     "timestamp": 1706446970415,
     "user": {
      "displayName": "PRANIT AMBULKAR",
      "userId": "01972083617876889196"
     },
     "user_tz": -330
    },
    "id": "eQzvkCG9HyfL",
    "outputId": "397b42f6-c3da-43ac-facb-0688b96cc7cc"
   },
   "outputs": [
    {
     "data": {
      "text/html": [
       "<style>#sk-container-id-1 {color: black;background-color: white;}#sk-container-id-1 pre{padding: 0;}#sk-container-id-1 div.sk-toggleable {background-color: white;}#sk-container-id-1 label.sk-toggleable__label {cursor: pointer;display: block;width: 100%;margin-bottom: 0;padding: 0.3em;box-sizing: border-box;text-align: center;}#sk-container-id-1 label.sk-toggleable__label-arrow:before {content: \"▸\";float: left;margin-right: 0.25em;color: #696969;}#sk-container-id-1 label.sk-toggleable__label-arrow:hover:before {color: black;}#sk-container-id-1 div.sk-estimator:hover label.sk-toggleable__label-arrow:before {color: black;}#sk-container-id-1 div.sk-toggleable__content {max-height: 0;max-width: 0;overflow: hidden;text-align: left;background-color: #f0f8ff;}#sk-container-id-1 div.sk-toggleable__content pre {margin: 0.2em;color: black;border-radius: 0.25em;background-color: #f0f8ff;}#sk-container-id-1 input.sk-toggleable__control:checked~div.sk-toggleable__content {max-height: 200px;max-width: 100%;overflow: auto;}#sk-container-id-1 input.sk-toggleable__control:checked~label.sk-toggleable__label-arrow:before {content: \"▾\";}#sk-container-id-1 div.sk-estimator input.sk-toggleable__control:checked~label.sk-toggleable__label {background-color: #d4ebff;}#sk-container-id-1 div.sk-label input.sk-toggleable__control:checked~label.sk-toggleable__label {background-color: #d4ebff;}#sk-container-id-1 input.sk-hidden--visually {border: 0;clip: rect(1px 1px 1px 1px);clip: rect(1px, 1px, 1px, 1px);height: 1px;margin: -1px;overflow: hidden;padding: 0;position: absolute;width: 1px;}#sk-container-id-1 div.sk-estimator {font-family: monospace;background-color: #f0f8ff;border: 1px dotted black;border-radius: 0.25em;box-sizing: border-box;margin-bottom: 0.5em;}#sk-container-id-1 div.sk-estimator:hover {background-color: #d4ebff;}#sk-container-id-1 div.sk-parallel-item::after {content: \"\";width: 100%;border-bottom: 1px solid gray;flex-grow: 1;}#sk-container-id-1 div.sk-label:hover label.sk-toggleable__label {background-color: #d4ebff;}#sk-container-id-1 div.sk-serial::before {content: \"\";position: absolute;border-left: 1px solid gray;box-sizing: border-box;top: 0;bottom: 0;left: 50%;z-index: 0;}#sk-container-id-1 div.sk-serial {display: flex;flex-direction: column;align-items: center;background-color: white;padding-right: 0.2em;padding-left: 0.2em;position: relative;}#sk-container-id-1 div.sk-item {position: relative;z-index: 1;}#sk-container-id-1 div.sk-parallel {display: flex;align-items: stretch;justify-content: center;background-color: white;position: relative;}#sk-container-id-1 div.sk-item::before, #sk-container-id-1 div.sk-parallel-item::before {content: \"\";position: absolute;border-left: 1px solid gray;box-sizing: border-box;top: 0;bottom: 0;left: 50%;z-index: -1;}#sk-container-id-1 div.sk-parallel-item {display: flex;flex-direction: column;z-index: 1;position: relative;background-color: white;}#sk-container-id-1 div.sk-parallel-item:first-child::after {align-self: flex-end;width: 50%;}#sk-container-id-1 div.sk-parallel-item:last-child::after {align-self: flex-start;width: 50%;}#sk-container-id-1 div.sk-parallel-item:only-child::after {width: 0;}#sk-container-id-1 div.sk-dashed-wrapped {border: 1px dashed gray;margin: 0 0.4em 0.5em 0.4em;box-sizing: border-box;padding-bottom: 0.4em;background-color: white;}#sk-container-id-1 div.sk-label label {font-family: monospace;font-weight: bold;display: inline-block;line-height: 1.2em;}#sk-container-id-1 div.sk-label-container {text-align: center;}#sk-container-id-1 div.sk-container {/* jupyter's `normalize.less` sets `[hidden] { display: none; }` but bootstrap.min.css set `[hidden] { display: none !important; }` so we also need the `!important` here to be able to override the default hidden behavior on the sphinx rendered scikit-learn.org. See: https://github.com/scikit-learn/scikit-learn/issues/21755 */display: inline-block !important;position: relative;}#sk-container-id-1 div.sk-text-repr-fallback {display: none;}</style><div id=\"sk-container-id-1\" class=\"sk-top-container\"><div class=\"sk-text-repr-fallback\"><pre>RandomForestClassifier()</pre><b>In a Jupyter environment, please rerun this cell to show the HTML representation or trust the notebook. <br />On GitHub, the HTML representation is unable to render, please try loading this page with nbviewer.org.</b></div><div class=\"sk-container\" hidden><div class=\"sk-item\"><div class=\"sk-estimator sk-toggleable\"><input class=\"sk-toggleable__control sk-hidden--visually\" id=\"sk-estimator-id-1\" type=\"checkbox\" checked><label for=\"sk-estimator-id-1\" class=\"sk-toggleable__label sk-toggleable__label-arrow\">RandomForestClassifier</label><div class=\"sk-toggleable__content\"><pre>RandomForestClassifier()</pre></div></div></div></div></div>"
      ],
      "text/plain": [
       "RandomForestClassifier()"
      ]
     },
     "execution_count": 35,
     "metadata": {},
     "output_type": "execute_result"
    }
   ],
   "source": [
    "rf_resampled = RandomForestClassifier(n_estimators=100)\n",
    "rf_resampled.fit(train_X, train_Y)"
   ]
  },
  {
   "cell_type": "markdown",
   "metadata": {
    "id": "5uFhpc98IEvW"
   },
   "source": []
  },
  {
   "cell_type": "markdown",
   "metadata": {
    "id": "_cbeAhVvCHcP"
   },
   "source": [
    "- Given that the Random Forest Algorithm outperformed the Decision Tree Algorithm, we will now apply the Random Forest algorithm to our resampled data."
   ]
  },
  {
   "cell_type": "code",
   "execution_count": 36,
   "metadata": {
    "executionInfo": {
     "elapsed": 6911,
     "status": "ok",
     "timestamp": 1706446977306,
     "user": {
      "displayName": "PRANIT AMBULKAR",
      "userId": "01972083617876889196"
     },
     "user_tz": -330
    },
    "id": "iQFZbJ5ZHHfm"
   },
   "outputs": [],
   "source": [
    "predictions_resampled = rf_resampled.predict(test_X)\n",
    "random_forest_score_resampled = rf_resampled.score(test_X, test_Y) * 100"
   ]
  },
  {
   "cell_type": "code",
   "execution_count": 37,
   "metadata": {
    "colab": {
     "base_uri": "https://localhost:8080/"
    },
    "executionInfo": {
     "elapsed": 24,
     "status": "ok",
     "timestamp": 1706446977308,
     "user": {
      "displayName": "PRANIT AMBULKAR",
      "userId": "01972083617876889196"
     },
     "user_tz": -330
    },
    "id": "rzkTkSZQHiP-",
    "outputId": "989dc2b6-5b6f-4d6b-aee6-ed821aa50244"
   },
   "outputs": [
    {
     "name": "stdout",
     "output_type": "stream",
     "text": [
      "99.98944832316269\n"
     ]
    }
   ],
   "source": [
    "print(random_forest_score_resampled)"
   ]
  },
  {
   "cell_type": "markdown",
   "metadata": {
    "id": "9Q9En0FdOcBp"
   },
   "source": [
    "**Evaluation Metrics and Confusion matrix**"
   ]
  },
  {
   "cell_type": "code",
   "execution_count": 38,
   "metadata": {
    "colab": {
     "base_uri": "https://localhost:8080/"
    },
    "executionInfo": {
     "elapsed": 15,
     "status": "ok",
     "timestamp": 1706446977309,
     "user": {
      "displayName": "PRANIT AMBULKAR",
      "userId": "01972083617876889196"
     },
     "user_tz": -330
    },
    "id": "DLRM-1kKPJlb",
    "outputId": "054635a4-eb5b-4ec9-8087-9742295f9c69"
   },
   "outputs": [
    {
     "name": "stdout",
     "output_type": "stream",
     "text": [
      "   CM   -  RF\n",
      "[[85131    18]\n",
      " [    0 85440]]\n"
     ]
    }
   ],
   "source": [
    "# Confusion Matrix\n",
    "confusion_matrix_rf_resampled= confusion_matrix(test_Y,predictions_resampled.round())\n",
    "print(\"   CM   -  RF\") # CM = Confusion matrix and RF = RandomForest\n",
    "print(confusion_matrix_rf_resampled)"
   ]
  },
  {
   "cell_type": "code",
   "execution_count": 39,
   "metadata": {
    "colab": {
     "base_uri": "https://localhost:8080/",
     "height": 569
    },
    "executionInfo": {
     "elapsed": 1273,
     "status": "ok",
     "timestamp": 1706447730747,
     "user": {
      "displayName": "PRANIT AMBULKAR",
      "userId": "01972083617876889196"
     },
     "user_tz": -330
    },
    "id": "HSkz1DpfJl-G",
    "outputId": "81562b32-692e-4a12-b4ec-3c7de3c1c7b4"
   },
   "outputs": [
    {
     "data": {
      "image/png": "[encoded data removed]",
      "text/plain": [
       "<Figure size 800x600 with 2 Axes>"
      ]
     },
     "metadata": {},
     "output_type": "display_data"
    }
   ],
   "source": [
    "# Confusion Matrix\n",
    "plt.figure(figsize=[8,6])\n",
    "sns.heatmap(confusion_matrix_rf_resampled, annot=True , fmt='d' , cmap=\"Greens\",\n",
    "            xticklabels=[\"Predicted Non-Fraudulent\" , \"Predicted Fraudulent\"],\n",
    "            yticklabels=[\"Actual Non-Fraudulent\", \"Actual Fraudulent\"])\n",
    "plt.title(\"Confusion Matrix - Random Forest\")\n",
    "plt.xlabel(\"Predicted Label\")\n",
    "plt.ylabel(\"True Label\")\n",
    "plt.show()"
   ]
  },
  {
   "cell_type": "markdown",
   "metadata": {
    "id": "SR-GgMsBXkT-"
   },
   "source": [
    "\n",
    "\n",
    "We understand from the confusion matrix:\n",
    "\n",
    "- Non-Fraudulent transactions:\n",
    "\n",
    "Correctly predicted as non-fraudulent(True Negative) 85131 transactions.\n",
    "    \n",
    "Incorrectly predicted as fraudulent(False Positive) 17 transactions.\n",
    "\n",
    "- Fraudulent Transactions:\n",
    "\n",
    "Incorrectly predicted as non-fraudulent(False Negative) : 0 transactions\n",
    "\n",
    "Correctly predicted as fraudulent(True Positive) : 85440 transactions\n",
    "\n"
   ]
  },
  {
   "cell_type": "markdown",
   "metadata": {
    "id": "uLUkKsDaPoLK"
   },
   "source": [
    "We understand from the confusion Matrix is:\n",
    "- The model correctly identified 85440 fraudulent transactions.\n",
    "- It incorrectly identified 0 transactions as non-fraudulent.\n",
    "- It correctly identified 85131 non-fraudulent transactions.\n",
    "- It incorrectly identified only 17 non-fraudulent transactions as fraudulent."
   ]
  },
  {
   "cell_type": "code",
   "execution_count": 40,
   "metadata": {
    "colab": {
     "base_uri": "https://localhost:8080/"
    },
    "executionInfo": {
     "elapsed": 50,
     "status": "ok",
     "timestamp": 1706446978585,
     "user": {
      "displayName": "PRANIT AMBULKAR",
      "userId": "01972083617876889196"
     },
     "user_tz": -330
    },
    "id": "tEyePZ7zPYi_",
    "outputId": "5cf9f788-ef5b-45a6-fdcd-8a52ba8cb924"
   },
   "outputs": [
    {
     "name": "stdout",
     "output_type": "stream",
     "text": [
      "Evaluation of Resampled Random Forest Model: \n",
      "Accuracy: 0.9999\n",
      "Precision: 0.9998\n",
      "recall_score: 1.0\n",
      "F1-Score: 0.9999\n"
     ]
    }
   ],
   "source": [
    "print(\"Evaluation of Resampled Random Forest Model: \")\n",
    "\n",
    "print(\"Accuracy:\",round(accuracy_score(test_Y,predictions_resampled),4))\n",
    "print(\"Precision:\",round(precision_score(test_Y,predictions_resampled),4))\n",
    "print(\"recall_score:\",round(recall_score(test_Y,predictions_resampled),4))\n",
    "print(\"F1-Score:\",round(f1_score(test_Y,predictions_resampled),4))"
   ]
  },
  {
   "cell_type": "markdown",
   "metadata": {
    "id": "LdLzwFCQQO-Z"
   },
   "source": [
    "We can see that our model performed much better than the previous Random Forest classifier without oversampling."
   ]
  },
  {
   "cell_type": "markdown",
   "metadata": {
    "id": "zSiXzZyvQeEu"
   },
   "source": [
    "We have applied the techniques to address the class imbalance issues and achieved an accuracy of more than 99%."
   ]
  },
  {
   "cell_type": "markdown",
   "metadata": {
    "id": "ZsGU1aIxNM83"
   },
   "source": [
    "- We will import the pickle to dump the dataframe and the model for the model deployement as the future scope."
   ]
  },
  {
   "cell_type": "code",
   "execution_count": 41,
   "metadata": {
    "executionInfo": {
     "elapsed": 1040,
     "status": "ok",
     "timestamp": 1706447336755,
     "user": {
      "displayName": "PRANIT AMBULKAR",
      "userId": "01972083617876889196"
     },
     "user_tz": -330
    },
    "id": "af1HxtWBQM5L"
   },
   "outputs": [],
   "source": [
    "import pickle\n",
    "pickle.dump(df,open('df.pkl','wb'))\n",
    "pickle.dump(rf_resampled,open('rf_resampled.pkl','wb'))"
   ]
  },
  {
   "cell_type": "code",
   "execution_count": null,
   "metadata": {},
   "outputs": [],
   "source": []
  }
 ],
 "metadata": {
  "colab": {
   "authorship_tag": "ABX9TyMceKLMuiupJcUmjEoIgcma",
   "mount_file_id": "1OWEbvkruEilq1mVy8BwYa0JQIfHU57CL",
   "provenance": []
  },
  "kernelspec": {
   "display_name": "Python 3 (ipykernel)",
   "language": "python",
   "name": "python3"
  },
  "language_info": {
   "codemirror_mode": {
    "name": "ipython",
    "version": 3
   },
   "file_extension": ".py",
   "mimetype": "text/x-python",
   "name": "python",
   "nbconvert_exporter": "python",
   "pygments_lexer": "ipython3",
   "version": "3.9.13"
  }
 },
 "nbformat": 4,
 "nbformat_minor": 1
}
